{
 "cells": [
  {
   "cell_type": "code",
   "execution_count": 13,
   "metadata": {},
   "outputs": [],
   "source": [
    "from time import sleep\n",
    "import serial\n",
    "\n",
    "\n",
    "class Gripper:\n",
    "    def __init__(self, usb_port):\n",
    "        self.connect = serial.Serial(\n",
    "            port=usb_port,\n",
    "            baudrate=19200,\n",
    "            parity=serial.PARITY_NONE,\n",
    "            bytesize=8,\n",
    "            stopbits=1,\n",
    "            timeout=0.05,\n",
    "            write_timeout=2.0,\n",
    "        )\n",
    "        print(self.connect)\n",
    "\n",
    "    def close(self):\n",
    "        self._write_word('010620400000', self.connect)  # clear position\n",
    "        self._write_word('010620400028', self.connect)  # run position 2\n",
    "    \n",
    "    def open(self):\n",
    "        self._write_word('010620400000', self.connect)  # clear position\n",
    "        self._write_word('010620400018', self.connect)  # run position 1\n",
    "\n",
    "    def close_abs(self):\n",
    "        self._write_word('010620140064', self.connect)   # 速度\n",
    "        self._write_word('0110200200020400001A90', self.connect)  # 位置 \n",
    "        self._write_word('0106201E0001', self.connect)   # 啟動\n",
    "    \n",
    "    def open_abs(self):\n",
    "        self._write_word('010620140064', self.connect)   # 速度\n",
    "        self._write_word('0110200200020400001A90', self.connect)  # 位置 \n",
    "        self._write_word('0106201E0001', self.connect)   # 啟動\n",
    "\n",
    "    def origin(self):\n",
    "        self._write_word('0106201E0003', self.connect)  # run origin\n",
    "\n",
    "    def _write_word(self, code, connect):\n",
    "        LRC = 255\n",
    "        for i in range(len(code) // 2):\n",
    "            s = code[i*2:i*2+2]\n",
    "            s = int(s, 16)\n",
    "            LRC -= s\n",
    "        LRC += 1\n",
    "        lrc_code = str(hex(LRC))[2:].upper()\n",
    "\n",
    "        code = ':' + code + lrc_code + '\\r\\n'\n",
    "        ret = connect.write(code.encode('ascii'))\n",
    "        sleep(0.5)\n",
    "        out = connect.read(1000)\n",
    "        print('Input:', code)\n",
    "        print('Output:', out)\n",
    "        return out\n"
   ]
  },
  {
   "cell_type": "code",
   "execution_count": 14,
   "metadata": {},
   "outputs": [
    {
     "name": "stdout",
     "output_type": "stream",
     "text": [
      "Serial<id=0x7f889b4e0990, open=True>(port='/dev/tty.usbserial-1420', baudrate=19200, bytesize=8, parity='N', stopbits=1, timeout=0.05, xonxoff=False, rtscts=False, dsrdtr=False)\n"
     ]
    }
   ],
   "source": [
    "g = Gripper('/dev/tty.usbserial-1420')"
   ]
  },
  {
   "cell_type": "code",
   "execution_count": 20,
   "metadata": {},
   "outputs": [
    {
     "name": "stdout",
     "output_type": "stream",
     "text": [
      "Input: :01062040000099\n",
      "\n",
      "Output: b':01062040000099\\r\\n'\n",
      "Input: :01062040002871\n",
      "\n",
      "Output: b':01062040002871\\r\\n'\n"
     ]
    }
   ],
   "source": [
    "g.close()"
   ]
  },
  {
   "cell_type": "code",
   "execution_count": 21,
   "metadata": {},
   "outputs": [
    {
     "name": "stdout",
     "output_type": "stream",
     "text": [
      "Input: :01062040000099\n",
      "\n",
      "Output: b':01062040000099\\r\\n'\n",
      "Input: :01062040001881\n",
      "\n",
      "Output: b':01062040001881\\r\\n'\n"
     ]
    }
   ],
   "source": [
    "g.open()"
   ]
  },
  {
   "cell_type": "code",
   "execution_count": null,
   "metadata": {},
   "outputs": [],
   "source": []
  }
 ],
 "metadata": {
  "kernelspec": {
   "display_name": "Python 3",
   "language": "python",
   "name": "python3"
  },
  "language_info": {
   "codemirror_mode": {
    "name": "ipython",
    "version": 3
   },
   "file_extension": ".py",
   "mimetype": "text/x-python",
   "name": "python",
   "nbconvert_exporter": "python",
   "pygments_lexer": "ipython3",
   "version": "3.7.4"
  }
 },
 "nbformat": 4,
 "nbformat_minor": 4
}
